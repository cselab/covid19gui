{
 "cells": [
  {
   "cell_type": "code",
   "execution_count": null,
   "metadata": {},
   "outputs": [],
   "source": [
    "from sympy import *\n",
    "from sympy.vector import *\n",
    "from sympy.matrices import Matrix\n",
    "\n",
    "init_printing() \n",
    "from IPython.display import display, Math\n"
   ]
  },
  {
   "cell_type": "markdown",
   "metadata": {},
   "source": [
    "## SIR model\n",
    "\\begin{align}\n",
    "  \\frac{dS}{dt} &= - \\frac{\\beta I S}{N}, \\\\\n",
    "  \\frac{dI}{dt} &= \\frac{\\beta I S}{N}- \\gamma I, \\\\\n",
    "  \\frac{dR}{dt} &= \\gamma I,\n",
    "\\end{align}\n",
    "\n",
    "Linearized SIR model\n",
    "\\begin{align}\n",
    "  \\frac{dS}{dt} &= - \\beta I, \\\\\n",
    "  \\frac{dI}{dt} &= (\\beta - \\gamma) I, \\\\\n",
    "  \\frac{dR}{dt} &= \\gamma I,\n",
    "\\end{align}\n",
    "\n",
    "Remove equations not relevant for $I$\n",
    "\\begin{equation}\n",
    "\\frac{dI}{dt} = (\\beta - \\gamma) I\n",
    "\\end{equation}\n",
    "\n",
    "Solution\n",
    "\\begin{equation}\n",
    "  I = I_0 e^{(\\beta - \\gamma)t}\n",
    "\\end{equation}\n",
    "\n",
    "Growth rate of $I(t)$\n",
    "\\begin{equation}\n",
    "  \\beta - \\gamma=\\gamma(R_0 - 1)\n",
    "\\end{equation}"
   ]
  },
  {
   "cell_type": "markdown",
   "metadata": {},
   "source": [
    "## SEIR model\n",
    "\\begin{align}\n",
    "  \\frac{dS}{dt} &= - \\frac{\\beta I S}{N}, \\\\\n",
    "  \\frac{dE}{dt} &= \\frac{\\beta I S}{N}- \\alpha E, \\\\\n",
    "  \\frac{dI}{dt} &= \\alpha E - \\gamma I, \\\\\n",
    "  \\frac{dR}{dt} &= \\gamma I,\n",
    "\\end{align}\n",
    "\n",
    "Linearized SEIR model\n",
    "\\begin{align}\n",
    "  \\frac{dS}{dt} &= - \\beta I, \\\\\n",
    "  \\frac{dE}{dt} &= \\beta I - \\alpha E, \\\\\n",
    "  \\frac{dI}{dt} &= \\alpha E - \\gamma I, \\\\\n",
    "  \\frac{dR}{dt} &= \\gamma I,\n",
    "\\end{align}\n",
    "\n",
    "Remove equations not relevant for $I$\n",
    "\\begin{align}\n",
    "  \\frac{dE}{dt} &= \\beta I - \\alpha E, \\\\\n",
    "  \\frac{dI}{dt} &= \\alpha E - \\gamma I, \\\\\n",
    "\\end{align}\n",
    "\n",
    "Matrix form\n",
    "\\begin{equation}\n",
    "  \\frac{d}{dt}\\begin{pmatrix}E\\\\I\\end{pmatrix} = \n",
    "  \\begin{pmatrix}-\\alpha & \\beta \\\\\n",
    "      \\alpha & -\\gamma \\end{pmatrix} \n",
    "  \\begin{pmatrix}E\\\\I\\end{pmatrix}\n",
    "\\end{equation}\n"
   ]
  },
  {
   "cell_type": "code",
   "execution_count": null,
   "metadata": {},
   "outputs": [],
   "source": [
    "alpha = Symbol('alpha', positive = True, real = True)\n",
    "R0 = Symbol('R_0', positive = True, real = True)\n",
    "gamma = Symbol('gamma', positive = True, real = True)\n",
    "#beta = Symbol('beta')\n",
    "beta = R0 * gamma\n",
    "\n",
    "M = Matrix([[-alpha, beta],[alpha, -gamma]])\n",
    "ll = list(M.eigenvals().keys())\n",
    "[simplify(l) for l in ll]"
   ]
  },
  {
   "cell_type": "code",
   "execution_count": null,
   "metadata": {},
   "outputs": [],
   "source": [
    "[simplify(l.subs(alpha, gamma)) for l in ll]"
   ]
  },
  {
   "cell_type": "markdown",
   "metadata": {},
   "source": [
    "Eigenvalues\n",
    "\\begin{equation}\n",
    "  \\left[ - \\frac{\\alpha}{2} - \\frac{\\gamma}{2} - \\frac{\\sqrt{4 R_{0} \\alpha \\gamma + \\alpha^{2} - 2 \\alpha \\gamma + \\gamma^{2}}}{2}, \\  - \\frac{\\alpha}{2} - \\frac{\\gamma}{2} + \\frac{\\sqrt{4 R_{0} \\alpha \\gamma + \\alpha^{2} - 2 \\alpha \\gamma + \\gamma^{2}}}{2}\\right]\n",
    "\\end{equation}\n",
    "\n",
    "\n",
    "Eigenvalues in case $\\alpha=\\gamma$\n",
    "\\begin{equation}\n",
    "  \\left[ - \\gamma \\left(\\sqrt{R_{0}} + 1\\right), \\  \\gamma \\left(\\sqrt{R_{0}} - 1\\right)\\right]\n",
    "\\end{equation}\n",
    "\n",
    "Growth rate of $I(t)$ in case $\\alpha=\\gamma$\n",
    "\\begin{equation}\n",
    "  \\gamma \\left(\\sqrt{R_{0}} - 1\\right)\n",
    "\\end{equation}"
   ]
  },
  {
   "cell_type": "code",
   "execution_count": null,
   "metadata": {
    "scrolled": true
   },
   "outputs": [],
   "source": [
    "growth = ll[1]\n",
    "R0sir = Symbol('R_0^\\mathrm{sir}', positive = True, real = True)\n",
    "s = solve(growth -(gamma * (R0sir - 1)) , R0)[0]\n",
    "s = expand(factor(s, gamma))\n",
    "display(Math('R_0^\\mathrm{seir}=' + latex(s)))"
   ]
  },
  {
   "cell_type": "markdown",
   "metadata": {},
   "source": [
    "Relationship between $R_0$ from SIR and SEIR\n",
    "\\begin{equation}\n",
    "R_0^\\mathrm{seir}=R_0^\\mathrm{sir}+\\frac{R_0^\\mathrm{sir}(R_0^\\mathrm{sir}-1) \\gamma}{\\alpha}\n",
    "\\end{equation}"
   ]
  }
 ],
 "metadata": {
  "kernelspec": {
   "display_name": "Python 3",
   "language": "python",
   "name": "python3"
  },
  "language_info": {
   "codemirror_mode": {
    "name": "ipython",
    "version": 3
   },
   "file_extension": ".py",
   "mimetype": "text/x-python",
   "name": "python",
   "nbconvert_exporter": "python",
   "pygments_lexer": "ipython3",
   "version": "3.8.3"
  }
 },
 "nbformat": 4,
 "nbformat_minor": 2
}
